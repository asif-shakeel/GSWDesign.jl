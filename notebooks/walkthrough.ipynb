{
 "cells": [
  {
   "cell_type": "markdown",
   "metadata": {},
   "source": [
    "# GSWDesign.jl Walkthrough\n",
    "GSWDesign is a Julia package which contains a fast implementation of the Gram--Schmidt Walk for balancing covariates in randomized experiments.\n",
    "In this notebook, we demonstrate how to use its main functionality, the function `sample_gs_walk`, which is an efficient method for sampling from the Gram--Schmidt Walk design. \n",
    "\n",
    "This notebook **does not contain** any statistical analysis of this Gram--Schmidt Walk design nor code to construct average treatment effect estimates or confidence intervals. For those more technical aspects of this work, please see our paper,\n",
    "1. Christopher Harshaw, Fredrik S&auml;vje, Daniel Spielman, Peng Zhang. \"Balancing covariates in randomized experiments using the Gram–Schmidt walk\". arxiv 1911.03071, 2019. [arxiv link](https://arxiv.org/abs/1911.03071)"
   ]
  },
  {
   "cell_type": "code",
   "execution_count": null,
   "metadata": {},
   "outputs": [],
   "source": [
    "# import other packages that we will use\n",
    "using PyPlot\n",
    "using Random"
   ]
  },
  {
   "cell_type": "markdown",
   "metadata": {},
   "source": [
    "## Creating covariates\n",
    "Let's begin by creating a toy dataset of $n=40$ units, each with a $d=2$-dimensional covariate vector.\n",
    "We'll store these covariates as *rows* in a matrix `X`. This row convention is used in GSWDesign.\n",
    "For an interesting dataset, we'll sample covariates from a mixture of Gaussians."
   ]
  },
  {
   "cell_type": "code",
   "execution_count": null,
   "metadata": {},
   "outputs": [],
   "source": [
    "# begin by setting a random seed\n",
    "Random.seed!(1234) \n",
    "\n",
    "# initialize matrix of covariates\n",
    "num_gauss = 4\n",
    "samples_per_gauss = 10\n",
    "n = num_gauss * samples_per_gauss\n",
    "d = 2\n",
    "X = zeros(n,d)\n",
    "\n",
    "# create covariates via mixture of Gaussians\n",
    "mean_vecs = [1.0 1.0; -1.0 1.0; -1.0 -1.0; 1.0 -1.0]\n",
    "for i=1:num_gauss\n",
    "    for j=1:samples_per_gauss\n",
    "        X[(i-1)*samples_per_gauss + j,:] = randn(d) + 3*mean_vecs[i,:]\n",
    "    end\n",
    "end"
   ]
  },
  {
   "cell_type": "markdown",
   "metadata": {},
   "source": [
    "Let's plot the covariate vectors."
   ]
  },
  {
   "cell_type": "code",
   "execution_count": null,
   "metadata": {},
   "outputs": [],
   "source": [
    "# plot covariate vectors\n",
    "scatter(X[:,1], X[:,2])\n",
    "xlabel(\"Covariate 1\")\n",
    "ylabel(\"Covariate 2\")\n",
    "axis(\"equal\")\n",
    "title(\"Covariates in our Experiment\")"
   ]
  },
  {
   "cell_type": "markdown",
   "metadata": {},
   "source": [
    "## Covariate Balancing\n",
    "The $n$ units can be assigned into two treatment groups in various ways. A popular method, known as the *Bernoulli design* is to independently assign units to either of the two treatment groups with equal probability.\n",
    "This method does not take covariates into account at all. \n",
    "Moreover, this design can have the undesirable effect of yielding assignments which do not \"balance\" covariates.\n",
    "Let's see an example of this."
   ]
  },
  {
   "cell_type": "code",
   "execution_count": null,
   "metadata": {},
   "outputs": [],
   "source": [
    "# generate a uniformly random assignment\n",
    "z = rand([-1,1], n)\n",
    "\n",
    "# function to plot assignments\n",
    "function plot_assignment(X, z, title_str)\n",
    "    cols = [\"red\", \"blue\"]\n",
    "    iter = 1\n",
    "    for a in [-1,1]\n",
    "        ind = findall(z .== a)\n",
    "        lab_str = \"treat $a\"\n",
    "        scatter(X[ind,1], X[ind,2], c=cols[iter], label=lab_str)\n",
    "        iter += 1\n",
    "    end\n",
    "    legend()\n",
    "    xlabel(\"Covariate 1\")\n",
    "    ylabel(\"Covariate 2\")\n",
    "    axis(\"equal\")\n",
    "    title(title_str)\n",
    "end\n",
    "\n",
    "# plot these assignments\n",
    "plot_assignment(X, z, \"Random Assignment\")"
   ]
  },
  {
   "cell_type": "markdown",
   "metadata": {},
   "source": [
    "We can observe the covariate imbalance in the upper left group and the lower right group. The upper left group has an more units assigned to the first treatment while the lower right group has more units assigned to the second treatment. By the \"law of small numbers\" this covariate imbalance is likely to happen for uniformly random assignments.\n",
    "\n",
    "The Gram--Schmidt Walk design attempts to correct this issue by producing random assignemnts of units for which the covariates are balanced. Again, we won't attempt to discuss the technical aspects here, as we are mainly interested in demonstrating how to run the package.\n",
    "\n",
    "The function to sample from the Gram--Schmidt Walk design is `sample_gs_walk(X, lambda, ...)` which has two reqiuired input arguments\n",
    "1. `X` is an $n$-by-$d$ matrix of covariates\n",
    "2. `lambda` is a design parameter in $(0,1]$ which determines the level of covariate balance.\n",
    "\n",
    "When `lambda` is set to `1`, then the algorithm assignments treatments independently, and as `lambda` decreases, the level of covariate balance increases. We will discuss optional arguements later in this tutorial. The default output argument is a length $n$ assignment vector with entires in $\\pm 1$."
   ]
  },
  {
   "cell_type": "code",
   "execution_count": null,
   "metadata": {},
   "outputs": [],
   "source": [
    "using GSWDesign\n",
    "\n",
    "# sample assignment from the design\n",
    "lambda = 0.5\n",
    "z = sample_gs_walk(X, lambda)\n",
    "\n",
    "# plot this assignment\n",
    "plot_assignment(X, z, \"GSW Design with lambda=$lambda\")"
   ]
  },
  {
   "cell_type": "markdown",
   "metadata": {},
   "source": [
    "Notice now that each of the four groups has nearly equal balance. This covariate balance occurs with much higher probability when sampling assignments from the Gram--Schmidt walk design than sampling assignments uniformly at random. As mentioned previously, the level of balance can be controlled by the input parameter `lambda`."
   ]
  },
  {
   "cell_type": "markdown",
   "metadata": {},
   "source": [
    "## Multiple Samples\n",
    "To sample more than one assignment from the Gram--Schmidt walk design, set the optional parameter `num_samples`. When `num_samples` is larger than 1, the output is a two-dimensional array with assignments as rows and units as columns."
   ]
  },
  {
   "cell_type": "code",
   "execution_count": null,
   "metadata": {},
   "outputs": [],
   "source": [
    "lambda = 0.5\n",
    "assignment_list = sample_gs_walk(X, lambda, num_samples=9)"
   ]
  },
  {
   "cell_type": "markdown",
   "metadata": {},
   "source": [
    "Certain computations are re-used when `num_samples` is set larger than `1`. For this reason, it's better to call `sample_gs_walk` once with the arguement `num_samples=k` rather than calling `sample_gs_walk` `k` separate times."
   ]
  },
  {
   "cell_type": "markdown",
   "metadata": {},
   "source": [
    "## Balanced Gram--Schmidt Walk\n",
    "In randomized experiments, it is often desirable to ensure that an equal number of units are assigned to each treatment. Just as this is not guaranteed by independent assignment, this is not guaranteed by the Gram--Schmidt Walk design. However, a slight modification to the sampling algorithm does ensure that this condition holds. To sample from the balanced Gram--Schmidt Walk design, simply call `gs_walk_design` with `balance=true`."
   ]
  },
  {
   "cell_type": "code",
   "execution_count": null,
   "metadata": {},
   "outputs": [],
   "source": [
    "# no balance\n",
    "assignment_list = sample_gs_walk(X, lambda, num_samples=200)\n",
    "treatment_size_diff = abs.(sum(assignment_list, dims=2)) / 2\n",
    "println(\"GSW: maximum assignment imbalance is \", maximum(treatment_size_diff))\n",
    "\n",
    "# balance\n",
    "assignment_list = sample_gs_walk(X, lambda, num_samples=200, balanced=true)\n",
    "treatment_size_diff = abs.(sum(assignment_list, dims=2)) / 2\n",
    "println(\"GSW: maximum assignment imbalance is \", maximum(treatment_size_diff))"
   ]
  },
  {
   "cell_type": "markdown",
   "metadata": {},
   "source": [
    "## Marginal Treatment Probabilities\n",
    "By default, the Gram--Schmidt design has the property that marginal treatment probailities are equal between units and treatments. That is, \n",
    "$$ \n",
    "\\Pr \\left( \\text{unit $i$ is assigned treatment 0} \\right) =  \n",
    "\\Pr \\left( \\text{unit $i$ is assigned treatment 1} \\right) = \n",
    "1/2\n",
    "\\quad \\text{for all units } i=1, 2, \\dots n \\enspace.\n",
    "$$\n",
    "However, the Gram--Schmidt Walk supports setting arbitrary marginal treatment probabilities. In particular, the marginal treatment probabilities can be set to values other than $1/2$ and can also differ across units. Of course, this has implications for covariate balancing but we refer the reader to our paper for this discussion.\n",
    "\n",
    "Setting different marginal treatment probabilities may be done using the optional argument `treatment_probs`. There are two ways to do this.\n",
    "1. If `treatment_probs=c` for some number `c` then the marginal treatment probability is equal to `c` for all units.\n",
    "2. If `treatment_probs=p` for some $n$ length array p, then that is interpreted as separate marginal treatement probabilities for all units.\n",
    "\n",
    "We give examples of this usage below."
   ]
  },
  {
   "cell_type": "code",
   "execution_count": null,
   "metadata": {},
   "outputs": [],
   "source": [
    "# sample 1 assignment, all units have same marginal treatment probabilities.\n",
    "lambda = 0.5\n",
    "z = sample_gs_walk(X, lambda, treatment_probs=0.8)\n",
    "\n",
    "println(\"Average Probability of Treatment is \", sum(z .+ 1.0)/(2*n))"
   ]
  },
  {
   "cell_type": "markdown",
   "metadata": {},
   "source": [
    "Now let's see how to set marginal treatment probabilities indpendently."
   ]
  },
  {
   "cell_type": "code",
   "execution_count": null,
   "metadata": {},
   "outputs": [],
   "source": [
    "# specify empirical probabilities of treatment\n",
    "p = Array(range(0.1,stop=0.9,length=n))\n",
    "\n",
    "# sample assignments, compute empirical probabilities of treatment 1\n",
    "assignment_list = sample_gs_walk(X, lambda, treatment_probs=p, num_samples=500)\n",
    "empirical_prob = reshape(sum((assignment_list .+ 1.0)/2, dims=1) ,n) / 500\n",
    "\n",
    "plot(1:n, p, \"g--\", label=\"true (specified)\")\n",
    "scatter(1:n, empirical_prob, label=\"empirical\")\n",
    "xlabel(\"Units\")\n",
    "ylabel(\"Probability of Treatment 1\")\n",
    "legend()"
   ]
  },
  {
   "cell_type": "markdown",
   "metadata": {},
   "source": [
    "We currently prevent the user from using both the `balance` and `treatment_probs` options at the same time."
   ]
  },
  {
   "cell_type": "code",
   "execution_count": null,
   "metadata": {},
   "outputs": [],
   "source": []
  }
 ],
 "metadata": {
  "@webio": {
   "lastCommId": null,
   "lastKernelId": null
  },
  "kernelspec": {
   "display_name": "Julia 1.0.2",
   "language": "julia",
   "name": "julia-1.0"
  },
  "language_info": {
   "file_extension": ".jl",
   "mimetype": "application/julia",
   "name": "julia",
   "version": "1.0.2"
  }
 },
 "nbformat": 4,
 "nbformat_minor": 2
}
